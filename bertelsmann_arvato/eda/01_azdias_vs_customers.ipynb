{
  "nbformat": 4,
  "nbformat_minor": 0,
  "metadata": {
    "colab": {
      "name": "01_azdias vs. customers.ipynb",
      "provenance": [],
      "collapsed_sections": [],
      "toc_visible": true,
      "mount_file_id": "1NQSCqVNqdYTtd7lwsuIeL0lBl1mVJh86",
      "authorship_tag": "ABX9TyOVvPbtd4kNcXdaDZQnU5i/",
      "include_colab_link": true
    },
    "kernelspec": {
      "name": "python3",
      "display_name": "Python 3"
    },
    "language_info": {
      "name": "python"
    }
  },
  "cells": [
    {
      "cell_type": "markdown",
      "metadata": {
        "id": "view-in-github",
        "colab_type": "text"
      },
      "source": [
        "<a href=\"https://colab.research.google.com/github/Nov05/udacity-mle-sagemaker-capstone/blob/main/bertelsmann_arvato/eda/01_azdias_vs_customers.ipynb\" target=\"_parent\"><img src=\"https://colab.research.google.com/assets/colab-badge.svg\" alt=\"Open In Colab\"/></a>"
      ]
    },
    {
      "cell_type": "code",
      "metadata": {
        "id": "JqZxiMkDwgg2"
      },
      "source": [
        "### created by nov05 on 2021-05-16"
      ],
      "execution_count": null,
      "outputs": []
    },
    {
      "cell_type": "markdown",
      "metadata": {
        "id": "yOmEf6Srwc_1"
      },
      "source": [
        "# Imports"
      ]
    },
    {
      "cell_type": "code",
      "metadata": {
        "id": "_BG8rQscfyIg"
      },
      "source": [
        "# import libraries here; add more as necessary\n",
        "import numpy as np\n",
        "import pandas as pd\n",
        "import matplotlib.pyplot as plt\n",
        "import seaborn as sns\n",
        "\n",
        "# magic word for producing visualizations in notebook\n",
        "%matplotlib inline\n",
        "\n",
        "data_dir = '/content/drive/MyDrive/data/2021-05-15_udacity-mle-sagemaker/Bertelsmann-Arvato/'"
      ],
      "execution_count": 1,
      "outputs": []
    },
    {
      "cell_type": "markdown",
      "metadata": {
        "id": "4ZyuUSvnKonr"
      },
      "source": [
        "# Check intersection"
      ]
    },
    {
      "cell_type": "code",
      "metadata": {
        "colab": {
          "base_uri": "https://localhost:8080/"
        },
        "id": "6cQ8RI1Gog3t",
        "outputId": "8b282b5c-c2f7-4b64-f277-0dd6492670b8"
      },
      "source": [
        "def get_lnr(csv_name):\n",
        "    path = f'{data_dir}{csv_name}'\n",
        "    usecols = ['LNR']\n",
        "    return pd.read_csv(path, sep=';', usecols=usecols)\n",
        "\n",
        "df_lnr_azdias = get_lnr('Udacity_AZDIAS_052018.csv')\n",
        "df_lnr_customers = get_lnr('Udacity_CUSTOMERS_052018.csv')\n",
        "\n",
        "### customer dataset is a completely different set of data from azdias\n",
        "set(df_lnr_azdias.values.squeeze()) & set(df_lnr_customers.values.squeeze())"
      ],
      "execution_count": null,
      "outputs": [
        {
          "output_type": "execute_result",
          "data": {
            "text/plain": [
              "set()"
            ]
          },
          "metadata": {
            "tags": []
          },
          "execution_count": 13
        }
      ]
    },
    {
      "cell_type": "markdown",
      "metadata": {
        "id": "ASTSyfM6K_YK"
      },
      "source": [
        "# Merge two datasets"
      ]
    },
    {
      "cell_type": "code",
      "metadata": {
        "colab": {
          "base_uri": "https://localhost:8080/"
        },
        "id": "iHmWoD08K-SU",
        "outputId": "20a1b53b-b373-48bc-d58b-3711437bf566"
      },
      "source": [
        "path = f'{data_dir}Udacity_AZDIAS_052018.csv'\n",
        "df_azdias = pd.read_csv(path, sep=';')\n",
        "df_azdias.shape # (891221, 366)"
      ],
      "execution_count": 2,
      "outputs": [
        {
          "output_type": "stream",
          "text": [
            "/usr/local/lib/python3.7/dist-packages/IPython/core/interactiveshell.py:2718: DtypeWarning: Columns (18,19) have mixed types.Specify dtype option on import or set low_memory=False.\n",
            "  interactivity=interactivity, compiler=compiler, result=result)\n"
          ],
          "name": "stderr"
        },
        {
          "output_type": "execute_result",
          "data": {
            "text/plain": [
              "(891221, 366)"
            ]
          },
          "metadata": {
            "tags": []
          },
          "execution_count": 2
        }
      ]
    },
    {
      "cell_type": "code",
      "metadata": {
        "colab": {
          "base_uri": "https://localhost:8080/"
        },
        "id": "kBOJiA7RLUtA",
        "outputId": "7b3e20a0-bdb4-4ac7-e77e-6e39522331f3"
      },
      "source": [
        "path = f'{data_dir}Udacity_CUSTOMERS_052018.csv'\n",
        "df_customer = pd.read_csv(path, sep=';')\n",
        "df_customer.shape # (191652, 369)"
      ],
      "execution_count": 3,
      "outputs": [
        {
          "output_type": "stream",
          "text": [
            "/usr/local/lib/python3.7/dist-packages/IPython/core/interactiveshell.py:2718: DtypeWarning: Columns (18,19) have mixed types.Specify dtype option on import or set low_memory=False.\n",
            "  interactivity=interactivity, compiler=compiler, result=result)\n"
          ],
          "name": "stderr"
        },
        {
          "output_type": "execute_result",
          "data": {
            "text/plain": [
              "(191652, 369)"
            ]
          },
          "metadata": {
            "tags": []
          },
          "execution_count": 3
        }
      ]
    },
    {
      "cell_type": "code",
      "metadata": {
        "id": "7qBf6nDOLl-N"
      },
      "source": [
        "df_azdias['is_customer'] = 0\n",
        "df_customer['is_customer'] = 1"
      ],
      "execution_count": 4,
      "outputs": []
    },
    {
      "cell_type": "code",
      "metadata": {
        "id": "j29PPHjqL9f3"
      },
      "source": [
        ""
      ],
      "execution_count": null,
      "outputs": []
    }
  ]
}